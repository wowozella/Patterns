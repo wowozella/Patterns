{
 "cells": [
  {
   "cell_type": "code",
   "execution_count": 1,
   "id": "7b153dfb",
   "metadata": {},
   "outputs": [],
   "source": [
    "\n",
    "#pattern1\n",
    "print('pattern1\\n')\n",
    "rows = 11\n",
    "for i in range(1, rows):\n",
    "    for j in range(-1+i, -1, -1):\n",
    "        print(format(2**j, \"4d\"), end=' ')\n",
    "    print(\"\")\n"
   ]
  },
  {
   "cell_type": "code",
   "execution_count": 2,
   "id": "b5824438",
   "metadata": {},
   "outputs": [],
   "source": [
    "#pattern2\n",
    "print('\\npattern2\\n')\n",
    "rows = 6\n",
    "for row in range(1, rows):\n",
    "    for column in range(row, 0, -1):\n",
    "        print(column, end=' ')\n",
    "    print(\"\")\n"
   ]
  },
  {
   "cell_type": "code",
   "execution_count": 3,
   "id": "4f3d66a0",
   "metadata": {},
   "outputs": [],
   "source": [
    "    \n",
    "#pattern3\n",
    "print('\\npattern3\\n')\n",
    "rows = 5\n",
    "for i in range(rows, 0, -1):\n",
    "    for j in range(1, i + 1):\n",
    "        print(j, end=' ')\n",
    "    print(\"\\r\")\n"
   ]
  },
  {
   "cell_type": "code",
   "execution_count": 4,
   "id": "49823698",
   "metadata": {},
   "outputs": [],
   "source": [
    "    \n",
    "#pattern4\n",
    "print('\\npattern4\\n')\n",
    "rows = 5\n",
    "for i in range(rows, 0, -1):\n",
    "    num = i\n",
    "    for j in range(0, i):\n",
    "        print(num, end=' ')\n",
    "    print(\"\\r\")\n"
   ]
  },
  {
   "cell_type": "code",
   "execution_count": 5,
   "id": "d852c2ae",
   "metadata": {},
   "outputs": [],
   "source": [
    "\n",
    "#pattern5\n",
    "print('\\npattern5\\n')\n",
    "rows = 5\n",
    "num = rows\n",
    "for i in range(rows, 0, -1):\n",
    "    for j in range(0, i):\n",
    "        print(num, end=' ')\n",
    "    print(\"\\r\")"
   ]
  },
  {
   "cell_type": "code",
   "execution_count": 6,
   "id": "cf75d658",
   "metadata": {},
   "outputs": [],
   "source": [
    "\n",
    "#pattern6\n",
    "print('\\npattern6\\n')\n",
    "rows = 5\n",
    "b = 0\n",
    "for i in range(rows, 0, -1):\n",
    "    b += 1\n",
    "    for j in range(1, i + 1):\n",
    "        print(b, end=' ')\n",
    "    print('\\r')\n"
   ]
  },
  {
   "cell_type": "code",
   "execution_count": 7,
   "id": "8aececd0",
   "metadata": {},
   "outputs": [],
   "source": [
    "\n",
    "#pattern7\n",
    "print('\\npattern7\\n')\n",
    "rows = 5\n",
    "for row in range(1, rows+1):\n",
    "    for column in range(1, row + 1):\n",
    "        print(column, end=' ')\n",
    "    print(\"\")\t\t\t\t \n"
   ]
  },
  {
   "cell_type": "code",
   "execution_count": 8,
   "id": "268af8c7",
   "metadata": {},
   "outputs": [],
   "source": [
    "\n",
    "#pattern8\n",
    "print('\\npattern8\\n')\n",
    "rows = 6\n",
    "for num in range(rows):\n",
    "    for i in range(num):\n",
    "        print(num, end=\" \")  # print number\n",
    "    # line after each row to display pattern correctly\n",
    "    print(\"\")\n"
   ]
  },
  {
   "cell_type": "code",
   "execution_count": 9,
   "id": "a8a94182",
   "metadata": {},
   "outputs": [],
   "source": [
    "\n",
    "#pattern9\n",
    "print('\\npattern9\\n')\n",
    "rows = 7\n",
    "for i in range(1, rows):\n",
    "    for i in range(0, i, 1):\n",
    "        print(format(2 ** i, \"4d\"), end=' ')\n",
    "    for i in range(-1 + i, -1, -1):\n",
    "        print(format(2 ** i, \"4d\"), end=' ')\n",
    "    print(\"\")\n"
   ]
  },
  {
   "cell_type": "code",
   "execution_count": 10,
   "id": "db787fd1",
   "metadata": {},
   "outputs": [],
   "source": [
    "\n",
    "#pattern10\n",
    "print('\\npattern10\\n')\n",
    "\t"
   ]
  },
  {
   "cell_type": "code",
   "execution_count": null,
   "id": "c3dfd9ef",
   "metadata": {},
   "outputs": [],
   "source": [
    "!pip install jupyterthemes\n"
   ]
  },
  {
   "cell_type": "code",
   "execution_count": null,
   "id": "eee79642",
   "metadata": {},
   "outputs": [],
   "source": [
    "!jt -t chesterish"
   ]
  },
  {
   "cell_type": "code",
   "execution_count": null,
   "id": "6b5007d3",
   "metadata": {},
   "outputs": [],
   "source": [
    "!jt -r"
   ]
  },
  {
   "cell_type": "code",
   "execution_count": null,
   "id": "b1b9b365",
   "metadata": {},
   "outputs": [],
   "source": []
  }
 ],
 "metadata": {
  "kernelspec": {
   "display_name": "Python 3 (ipykernel)",
   "language": "python",
   "name": "python3"
  },
  "language_info": {
   "codemirror_mode": {
    "name": "ipython",
    "version": 3
   },
   "file_extension": ".py",
   "mimetype": "text/x-python",
   "name": "python",
   "nbconvert_exporter": "python",
   "pygments_lexer": "ipython3",
   "version": "3.11.0"
  }
 },
 "nbformat": 4,
 "nbformat_minor": 5
}
