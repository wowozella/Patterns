{
 "cells": [
  {
   "cell_type": "code",
   "execution_count": null,
   "id": "7b153dfb",
   "metadata": {},
   "outputs": [],
   "source": [
    "\n",
    "#pattern1\n",
    "print('pattern1\\n')\n",
    "rows = 11\n",
    "for i in range(1, rows):\n",
    "    for j in range(-1+i, -1, -1):\n",
    "        print(format(2**j, \"4d\"), end=' ')\n",
    "    print(\"\")\n"
   ]
  },
  {
   "cell_type": "code",
   "execution_count": null,
   "id": "b5824438",
   "metadata": {},
   "outputs": [],
   "source": [
    "#pattern2\n",
    "print('\\npattern2\\n')\n",
    "rows = 6\n",
    "for row in range(1, rows):\n",
    "    for column in range(row, 0, -1):\n",
    "        print(column, end=' ')\n",
    "    print(\"\")\n"
   ]
  },
  {
   "cell_type": "code",
   "execution_count": null,
   "id": "4f3d66a0",
   "metadata": {},
   "outputs": [],
   "source": [
    "    \n",
    "#pattern3\n",
    "print('\\npattern3\\n')\n",
    "rows = 5\n",
    "for i in range(rows, 0, -1):\n",
    "    for j in range(1, i + 1):\n",
    "        print(j, end=' ')\n",
    "    print(\"\\r\")\n"
   ]
  },
  {
   "cell_type": "code",
   "execution_count": null,
   "id": "49823698",
   "metadata": {},
   "outputs": [],
   "source": [
    "    \n",
    "#pattern4\n",
    "print('\\npattern4\\n')\n",
    "rows = 5\n",
    "for i in range(rows, 0, -1):\n",
    "    num = i\n",
    "    for j in range(0, i):\n",
    "        print(num, end=' ')\n",
    "    print(\"\\r\")\n"
   ]
  },
  {
   "cell_type": "code",
   "execution_count": null,
   "id": "d852c2ae",
   "metadata": {},
   "outputs": [],
   "source": [
    "\n",
    "#pattern5\n",
    "print('\\npattern5\\n')\n",
    "rows = 5\n",
    "num = rows\n",
    "for i in range(rows, 0, -1):\n",
    "    for j in range(0, i):\n",
    "        print(num, end=' ')\n",
    "    print(\"\\r\")"
   ]
  },
  {
   "cell_type": "code",
   "execution_count": null,
   "id": "cf75d658",
   "metadata": {},
   "outputs": [],
   "source": [
    "\n",
    "#pattern6\n",
    "print('\\npattern6\\n')\n",
    "rows = 5\n",
    "b = 0\n",
    "for i in range(rows, 0, -1):\n",
    "    b += 1\n",
    "    for j in range(1, i + 1):\n",
    "        print(b, end=' ')\n",
    "    print('\\r')\n"
   ]
  },
  {
   "cell_type": "code",
   "execution_count": null,
   "id": "8aececd0",
   "metadata": {},
   "outputs": [],
   "source": [
    "\n",
    "#pattern7\n",
    "print('\\npattern7\\n')\n",
    "rows = 5\n",
    "for row in range(1, rows+1):\n",
    "    for column in range(1, row + 1):\n",
    "        print(column, end=' ')\n",
    "    print(\"\")\t\t\t\t \n"
   ]
  },
  {
   "cell_type": "code",
   "execution_count": null,
   "id": "268af8c7",
   "metadata": {},
   "outputs": [],
   "source": [
    "\n",
    "#pattern8\n",
    "print('\\npattern8\\n')\n",
    "rows = 6\n",
    "for num in range(rows):\n",
    "    for i in range(num):\n",
    "        print(num, end=\" \")  # print number\n",
    "    # line after each row to display pattern correctly\n",
    "    print(\"\")\n"
   ]
  },
  {
   "cell_type": "code",
   "execution_count": null,
   "id": "a8a94182",
   "metadata": {},
   "outputs": [],
   "source": [
    "\n",
    "#pattern9\n",
    "print('\\npattern9\\n')\n",
    "rows = 7\n",
    "for i in range(1, rows):\n",
    "    for i in range(0, i, 1):\n",
    "        print(format(2 ** i, \"4d\"), end=' ')\n",
    "    for i in range(-1 + i, -1, -1):\n",
    "        print(format(2 ** i, \"4d\"), end=' ')\n",
    "    print(\"\")\n"
   ]
  },
  {
   "cell_type": "code",
   "execution_count": null,
   "id": "db787fd1",
   "metadata": {},
   "outputs": [],
   "source": [
    "\n",
    "#pattern10\n",
    "print('\\npattern10\\n')\n",
    "\t"
   ]
  },
  {
   "cell_type": "code",
   "execution_count": 1,
   "id": "c3dfd9ef",
   "metadata": {},
   "outputs": [
    {
     "name": "stdout",
     "output_type": "stream",
     "text": [
      "Defaulting to user installation because normal site-packages is not writeable\n",
      "Collecting jupyterthemes\n",
      "  Using cached jupyterthemes-0.20.0-py2.py3-none-any.whl (7.0 MB)\n",
      "Requirement already satisfied: jupyter-core in c:\\users\\isi\\appdata\\roaming\\python\\python39\\site-packages (from jupyterthemes) (5.1.0)\n",
      "Requirement already satisfied: ipython>=5.4.1 in c:\\users\\isi\\appdata\\roaming\\python\\python39\\site-packages (from jupyterthemes) (8.7.0)\n",
      "Requirement already satisfied: notebook>=5.6.0 in c:\\users\\isi\\appdata\\roaming\\python\\python39\\site-packages (from jupyterthemes) (6.5.2)\n",
      "Requirement already satisfied: matplotlib>=1.4.3 in c:\\users\\isi\\appdata\\roaming\\python\\python39\\site-packages (from jupyterthemes) (3.6.3)\n",
      "Collecting lesscpy>=0.11.2\n",
      "  Using cached lesscpy-0.15.1-py2.py3-none-any.whl (46 kB)\n",
      "Requirement already satisfied: jedi>=0.16 in c:\\users\\isi\\appdata\\roaming\\python\\python39\\site-packages (from ipython>=5.4.1->jupyterthemes) (0.18.2)\n",
      "Requirement already satisfied: matplotlib-inline in c:\\users\\isi\\appdata\\roaming\\python\\python39\\site-packages (from ipython>=5.4.1->jupyterthemes) (0.1.6)\n",
      "Requirement already satisfied: colorama in c:\\users\\isi\\appdata\\roaming\\python\\python39\\site-packages (from ipython>=5.4.1->jupyterthemes) (0.4.5)\n",
      "Requirement already satisfied: decorator in c:\\users\\isi\\appdata\\roaming\\python\\python39\\site-packages (from ipython>=5.4.1->jupyterthemes) (5.1.1)\n",
      "Requirement already satisfied: stack-data in c:\\users\\isi\\appdata\\roaming\\python\\python39\\site-packages (from ipython>=5.4.1->jupyterthemes) (0.6.2)\n",
      "Requirement already satisfied: traitlets>=5 in c:\\users\\isi\\appdata\\roaming\\python\\python39\\site-packages (from ipython>=5.4.1->jupyterthemes) (5.7.1)\n",
      "Requirement already satisfied: backcall in c:\\users\\isi\\appdata\\roaming\\python\\python39\\site-packages (from ipython>=5.4.1->jupyterthemes) (0.2.0)\n",
      "Requirement already satisfied: pygments>=2.4.0 in c:\\users\\isi\\appdata\\roaming\\python\\python39\\site-packages (from ipython>=5.4.1->jupyterthemes) (2.13.0)\n",
      "Requirement already satisfied: pickleshare in c:\\users\\isi\\appdata\\roaming\\python\\python39\\site-packages (from ipython>=5.4.1->jupyterthemes) (0.7.5)\n",
      "Requirement already satisfied: prompt-toolkit<3.1.0,>=3.0.11 in c:\\users\\isi\\appdata\\roaming\\python\\python39\\site-packages (from ipython>=5.4.1->jupyterthemes) (3.0.36)\n",
      "Collecting ply\n",
      "  Using cached ply-3.11-py2.py3-none-any.whl (49 kB)\n",
      "Requirement already satisfied: pillow>=6.2.0 in c:\\users\\isi\\appdata\\roaming\\python\\python39\\site-packages (from matplotlib>=1.4.3->jupyterthemes) (9.2.0)\n",
      "Requirement already satisfied: contourpy>=1.0.1 in c:\\users\\isi\\appdata\\roaming\\python\\python39\\site-packages (from matplotlib>=1.4.3->jupyterthemes) (1.0.7)\n",
      "Requirement already satisfied: fonttools>=4.22.0 in c:\\users\\isi\\appdata\\roaming\\python\\python39\\site-packages (from matplotlib>=1.4.3->jupyterthemes) (4.36.0)\n",
      "Requirement already satisfied: packaging>=20.0 in c:\\users\\isi\\appdata\\roaming\\python\\python39\\site-packages (from matplotlib>=1.4.3->jupyterthemes) (21.3)\n",
      "Requirement already satisfied: cycler>=0.10 in c:\\users\\isi\\appdata\\roaming\\python\\python39\\site-packages (from matplotlib>=1.4.3->jupyterthemes) (0.11.0)\n",
      "Requirement already satisfied: pyparsing>=2.2.1 in c:\\users\\isi\\appdata\\roaming\\python\\python39\\site-packages (from matplotlib>=1.4.3->jupyterthemes) (3.0.9)\n",
      "Requirement already satisfied: numpy>=1.19 in c:\\users\\isi\\appdata\\roaming\\python\\python39\\site-packages (from matplotlib>=1.4.3->jupyterthemes) (1.24.2)\n",
      "Requirement already satisfied: python-dateutil>=2.7 in c:\\users\\isi\\appdata\\roaming\\python\\python39\\site-packages (from matplotlib>=1.4.3->jupyterthemes) (2.8.2)\n",
      "Requirement already satisfied: kiwisolver>=1.0.1 in c:\\users\\isi\\appdata\\roaming\\python\\python39\\site-packages (from matplotlib>=1.4.3->jupyterthemes) (1.4.4)\n",
      "Requirement already satisfied: terminado>=0.8.3 in c:\\users\\isi\\appdata\\roaming\\python\\python39\\site-packages (from notebook>=5.6.0->jupyterthemes) (0.17.1)\n",
      "Requirement already satisfied: nbclassic>=0.4.7 in c:\\users\\isi\\appdata\\roaming\\python\\python39\\site-packages (from notebook>=5.6.0->jupyterthemes) (0.4.8)\n",
      "Requirement already satisfied: jinja2 in c:\\users\\isi\\appdata\\roaming\\python\\python39\\site-packages (from notebook>=5.6.0->jupyterthemes) (3.1.2)\n",
      "Requirement already satisfied: prometheus-client in c:\\users\\isi\\appdata\\roaming\\python\\python39\\site-packages (from notebook>=5.6.0->jupyterthemes) (0.15.0)\n",
      "Requirement already satisfied: argon2-cffi in c:\\users\\isi\\appdata\\roaming\\python\\python39\\site-packages (from notebook>=5.6.0->jupyterthemes) (21.3.0)\n",
      "Requirement already satisfied: nbconvert>=5 in c:\\users\\isi\\appdata\\roaming\\python\\python39\\site-packages (from notebook>=5.6.0->jupyterthemes) (7.2.6)\n",
      "Requirement already satisfied: ipython-genutils in c:\\users\\isi\\appdata\\roaming\\python\\python39\\site-packages (from notebook>=5.6.0->jupyterthemes) (0.2.0)\n",
      "Requirement already satisfied: pyzmq>=17 in c:\\users\\isi\\appdata\\roaming\\python\\python39\\site-packages (from notebook>=5.6.0->jupyterthemes) (24.0.1)\n",
      "Requirement already satisfied: jupyter-client>=5.3.4 in c:\\users\\isi\\appdata\\roaming\\python\\python39\\site-packages (from notebook>=5.6.0->jupyterthemes) (7.4.8)\n",
      "Requirement already satisfied: nbformat in c:\\users\\isi\\appdata\\roaming\\python\\python39\\site-packages (from notebook>=5.6.0->jupyterthemes) (5.7.0)\n",
      "Requirement already satisfied: nest-asyncio>=1.5 in c:\\users\\isi\\appdata\\roaming\\python\\python39\\site-packages (from notebook>=5.6.0->jupyterthemes) (1.5.6)\n",
      "Requirement already satisfied: ipykernel in c:\\users\\isi\\appdata\\roaming\\python\\python39\\site-packages (from notebook>=5.6.0->jupyterthemes) (6.19.2)\n",
      "Requirement already satisfied: Send2Trash>=1.8.0 in c:\\users\\isi\\appdata\\roaming\\python\\python39\\site-packages (from notebook>=5.6.0->jupyterthemes) (1.8.0)\n",
      "Requirement already satisfied: tornado>=6.1 in c:\\users\\isi\\appdata\\roaming\\python\\python39\\site-packages (from notebook>=5.6.0->jupyterthemes) (6.2)\n",
      "Requirement already satisfied: pywin32>=1.0 in c:\\users\\isi\\appdata\\roaming\\python\\python39\\site-packages (from jupyter-core->jupyterthemes) (305)\n",
      "Requirement already satisfied: platformdirs>=2.5 in c:\\users\\isi\\appdata\\roaming\\python\\python39\\site-packages (from jupyter-core->jupyterthemes) (2.6.0)\n",
      "Requirement already satisfied: parso<0.9.0,>=0.8.0 in c:\\users\\isi\\appdata\\roaming\\python\\python39\\site-packages (from jedi>=0.16->ipython>=5.4.1->jupyterthemes) (0.8.3)\n",
      "Requirement already satisfied: entrypoints in c:\\users\\isi\\appdata\\roaming\\python\\python39\\site-packages (from jupyter-client>=5.3.4->notebook>=5.6.0->jupyterthemes) (0.4)\n",
      "Requirement already satisfied: notebook-shim>=0.1.0 in c:\\users\\isi\\appdata\\roaming\\python\\python39\\site-packages (from nbclassic>=0.4.7->notebook>=5.6.0->jupyterthemes) (0.2.2)\n",
      "Requirement already satisfied: jupyter-server>=1.8 in c:\\users\\isi\\appdata\\roaming\\python\\python39\\site-packages (from nbclassic>=0.4.7->notebook>=5.6.0->jupyterthemes) (2.0.1)\n",
      "Requirement already satisfied: defusedxml in c:\\users\\isi\\appdata\\roaming\\python\\python39\\site-packages (from nbconvert>=5->notebook>=5.6.0->jupyterthemes) (0.7.1)\n",
      "Requirement already satisfied: nbclient>=0.5.0 in c:\\users\\isi\\appdata\\roaming\\python\\python39\\site-packages (from nbconvert>=5->notebook>=5.6.0->jupyterthemes) (0.7.2)\n",
      "Requirement already satisfied: importlib-metadata>=3.6 in c:\\users\\isi\\appdata\\roaming\\python\\python39\\site-packages (from nbconvert>=5->notebook>=5.6.0->jupyterthemes) (4.12.0)\n",
      "Requirement already satisfied: tinycss2 in c:\\users\\isi\\appdata\\roaming\\python\\python39\\site-packages (from nbconvert>=5->notebook>=5.6.0->jupyterthemes) (1.2.1)\n",
      "Requirement already satisfied: beautifulsoup4 in c:\\users\\isi\\appdata\\roaming\\python\\python39\\site-packages (from nbconvert>=5->notebook>=5.6.0->jupyterthemes) (4.11.1)\n",
      "Requirement already satisfied: mistune<3,>=2.0.3 in c:\\users\\isi\\appdata\\roaming\\python\\python39\\site-packages (from nbconvert>=5->notebook>=5.6.0->jupyterthemes) (2.0.4)\n",
      "Requirement already satisfied: jupyterlab-pygments in c:\\users\\isi\\appdata\\roaming\\python\\python39\\site-packages (from nbconvert>=5->notebook>=5.6.0->jupyterthemes) (0.2.2)\n",
      "Requirement already satisfied: pandocfilters>=1.4.1 in c:\\users\\isi\\appdata\\roaming\\python\\python39\\site-packages (from nbconvert>=5->notebook>=5.6.0->jupyterthemes) (1.5.0)\n",
      "Requirement already satisfied: markupsafe>=2.0 in c:\\users\\isi\\appdata\\roaming\\python\\python39\\site-packages (from nbconvert>=5->notebook>=5.6.0->jupyterthemes) (2.1.1)\n",
      "Requirement already satisfied: bleach in c:\\users\\isi\\appdata\\roaming\\python\\python39\\site-packages (from nbconvert>=5->notebook>=5.6.0->jupyterthemes) (5.0.1)\n",
      "Requirement already satisfied: fastjsonschema in c:\\users\\isi\\appdata\\roaming\\python\\python39\\site-packages (from nbformat->notebook>=5.6.0->jupyterthemes) (2.16.2)\n",
      "Requirement already satisfied: jsonschema>=2.6 in c:\\users\\isi\\appdata\\roaming\\python\\python39\\site-packages (from nbformat->notebook>=5.6.0->jupyterthemes) (4.16.0)\n",
      "Requirement already satisfied: wcwidth in c:\\users\\isi\\appdata\\roaming\\python\\python39\\site-packages (from prompt-toolkit<3.1.0,>=3.0.11->ipython>=5.4.1->jupyterthemes) (0.2.5)\n",
      "Requirement already satisfied: six>=1.5 in c:\\users\\isi\\appdata\\roaming\\python\\python39\\site-packages (from python-dateutil>=2.7->matplotlib>=1.4.3->jupyterthemes) (1.16.0)\n",
      "Requirement already satisfied: pywinpty>=1.1.0 in c:\\users\\isi\\appdata\\roaming\\python\\python39\\site-packages (from terminado>=0.8.3->notebook>=5.6.0->jupyterthemes) (2.0.9)\n",
      "Requirement already satisfied: argon2-cffi-bindings in c:\\users\\isi\\appdata\\roaming\\python\\python39\\site-packages (from argon2-cffi->notebook>=5.6.0->jupyterthemes) (21.2.0)\n",
      "Requirement already satisfied: comm>=0.1.1 in c:\\users\\isi\\appdata\\roaming\\python\\python39\\site-packages (from ipykernel->notebook>=5.6.0->jupyterthemes) (0.1.2)\n",
      "Requirement already satisfied: debugpy>=1.0 in c:\\users\\isi\\appdata\\roaming\\python\\python39\\site-packages (from ipykernel->notebook>=5.6.0->jupyterthemes) (1.6.4)\n",
      "Requirement already satisfied: psutil in c:\\users\\isi\\appdata\\roaming\\python\\python39\\site-packages (from ipykernel->notebook>=5.6.0->jupyterthemes) (5.9.4)\n",
      "Requirement already satisfied: asttokens>=2.1.0 in c:\\users\\isi\\appdata\\roaming\\python\\python39\\site-packages (from stack-data->ipython>=5.4.1->jupyterthemes) (2.2.1)\n",
      "Requirement already satisfied: executing>=1.2.0 in c:\\users\\isi\\appdata\\roaming\\python\\python39\\site-packages (from stack-data->ipython>=5.4.1->jupyterthemes) (1.2.0)\n",
      "Requirement already satisfied: pure-eval in c:\\users\\isi\\appdata\\roaming\\python\\python39\\site-packages (from stack-data->ipython>=5.4.1->jupyterthemes) (0.2.2)\n",
      "Requirement already satisfied: zipp>=0.5 in c:\\users\\isi\\appdata\\roaming\\python\\python39\\site-packages (from importlib-metadata>=3.6->nbconvert>=5->notebook>=5.6.0->jupyterthemes) (3.8.1)\n",
      "Requirement already satisfied: attrs>=17.4.0 in c:\\users\\isi\\appdata\\roaming\\python\\python39\\site-packages (from jsonschema>=2.6->nbformat->notebook>=5.6.0->jupyterthemes) (22.1.0)\n",
      "Requirement already satisfied: pyrsistent!=0.17.0,!=0.17.1,!=0.17.2,>=0.14.0 in c:\\users\\isi\\appdata\\roaming\\python\\python39\\site-packages (from jsonschema>=2.6->nbformat->notebook>=5.6.0->jupyterthemes) (0.18.1)\n",
      "Requirement already satisfied: jupyter-events>=0.4.0 in c:\\users\\isi\\appdata\\roaming\\python\\python39\\site-packages (from jupyter-server>=1.8->nbclassic>=0.4.7->notebook>=5.6.0->jupyterthemes) (0.5.0)\n",
      "Requirement already satisfied: jupyter-server-terminals in c:\\users\\isi\\appdata\\roaming\\python\\python39\\site-packages (from jupyter-server>=1.8->nbclassic>=0.4.7->notebook>=5.6.0->jupyterthemes) (0.4.2)\n",
      "Requirement already satisfied: websocket-client in c:\\users\\isi\\appdata\\roaming\\python\\python39\\site-packages (from jupyter-server>=1.8->nbclassic>=0.4.7->notebook>=5.6.0->jupyterthemes) (1.4.2)\n",
      "Requirement already satisfied: anyio<4,>=3.1.0 in c:\\users\\isi\\appdata\\roaming\\python\\python39\\site-packages (from jupyter-server>=1.8->nbclassic>=0.4.7->notebook>=5.6.0->jupyterthemes) (3.6.2)\n",
      "Requirement already satisfied: cffi>=1.0.1 in c:\\users\\isi\\appdata\\roaming\\python\\python39\\site-packages (from argon2-cffi-bindings->argon2-cffi->notebook>=5.6.0->jupyterthemes) (1.15.1)\n",
      "Requirement already satisfied: soupsieve>1.2 in c:\\users\\isi\\appdata\\roaming\\python\\python39\\site-packages (from beautifulsoup4->nbconvert>=5->notebook>=5.6.0->jupyterthemes) (2.3.2.post1)\n",
      "Requirement already satisfied: webencodings in c:\\users\\isi\\appdata\\roaming\\python\\python39\\site-packages (from bleach->nbconvert>=5->notebook>=5.6.0->jupyterthemes) (0.5.1)\n",
      "Requirement already satisfied: idna>=2.8 in c:\\users\\isi\\appdata\\roaming\\python\\python39\\site-packages (from anyio<4,>=3.1.0->jupyter-server>=1.8->nbclassic>=0.4.7->notebook>=5.6.0->jupyterthemes) (3.3)\n",
      "Requirement already satisfied: sniffio>=1.1 in c:\\users\\isi\\appdata\\roaming\\python\\python39\\site-packages (from anyio<4,>=3.1.0->jupyter-server>=1.8->nbclassic>=0.4.7->notebook>=5.6.0->jupyterthemes) (1.3.0)\n",
      "Requirement already satisfied: pycparser in c:\\users\\isi\\appdata\\roaming\\python\\python39\\site-packages (from cffi>=1.0.1->argon2-cffi-bindings->argon2-cffi->notebook>=5.6.0->jupyterthemes) (2.21)\n",
      "Requirement already satisfied: python-json-logger in c:\\users\\isi\\appdata\\roaming\\python\\python39\\site-packages (from jupyter-events>=0.4.0->jupyter-server>=1.8->nbclassic>=0.4.7->notebook>=5.6.0->jupyterthemes) (2.0.4)\n",
      "Requirement already satisfied: pyyaml in c:\\users\\isi\\appdata\\roaming\\python\\python39\\site-packages (from jupyter-events>=0.4.0->jupyter-server>=1.8->nbclassic>=0.4.7->notebook>=5.6.0->jupyterthemes) (6.0)\n",
      "Requirement already satisfied: isoduration in c:\\users\\isi\\appdata\\roaming\\python\\python39\\site-packages (from jsonschema>=2.6->nbformat->notebook>=5.6.0->jupyterthemes) (20.11.0)\n",
      "Requirement already satisfied: jsonpointer>1.13 in c:\\users\\isi\\appdata\\roaming\\python\\python39\\site-packages (from jsonschema>=2.6->nbformat->notebook>=5.6.0->jupyterthemes) (2.3)\n",
      "Requirement already satisfied: webcolors>=1.11 in c:\\users\\isi\\appdata\\roaming\\python\\python39\\site-packages (from jsonschema>=2.6->nbformat->notebook>=5.6.0->jupyterthemes) (1.12)\n",
      "Requirement already satisfied: rfc3339-validator in c:\\users\\isi\\appdata\\roaming\\python\\python39\\site-packages (from jsonschema>=2.6->nbformat->notebook>=5.6.0->jupyterthemes) (0.1.4)\n",
      "Requirement already satisfied: fqdn in c:\\users\\isi\\appdata\\roaming\\python\\python39\\site-packages (from jsonschema>=2.6->nbformat->notebook>=5.6.0->jupyterthemes) (1.5.1)\n",
      "Requirement already satisfied: uri-template in c:\\users\\isi\\appdata\\roaming\\python\\python39\\site-packages (from jsonschema>=2.6->nbformat->notebook>=5.6.0->jupyterthemes) (1.2.0)\n",
      "Requirement already satisfied: rfc3986-validator>0.1.0 in c:\\users\\isi\\appdata\\roaming\\python\\python39\\site-packages (from jsonschema>=2.6->nbformat->notebook>=5.6.0->jupyterthemes) (0.1.1)\n",
      "Requirement already satisfied: arrow>=0.15.0 in c:\\users\\isi\\appdata\\roaming\\python\\python39\\site-packages (from isoduration->jsonschema>=2.6->nbformat->notebook>=5.6.0->jupyterthemes) (1.2.3)\n",
      "Installing collected packages: ply, lesscpy, jupyterthemes\n",
      "Successfully installed jupyterthemes-0.20.0 lesscpy-0.15.1 ply-3.11\n"
     ]
    },
    {
     "name": "stderr",
     "output_type": "stream",
     "text": [
      "  WARNING: The script lesscpy.exe is installed in 'C:\\Users\\ISI\\AppData\\Roaming\\Python\\Python39\\Scripts' which is not on PATH.\n",
      "  Consider adding this directory to PATH or, if you prefer to suppress this warning, use --no-warn-script-location.\n",
      "  WARNING: The scripts jt.exe and jupyter-theme.exe are installed in 'C:\\Users\\ISI\\AppData\\Roaming\\Python\\Python39\\Scripts' which is not on PATH.\n",
      "  Consider adding this directory to PATH or, if you prefer to suppress this warning, use --no-warn-script-location.\n"
     ]
    }
   ],
   "source": [
    "!pip install jupyterthemes\n"
   ]
  },
  {
   "cell_type": "code",
   "execution_count": 2,
   "id": "eee79642",
   "metadata": {},
   "outputs": [],
   "source": [
    "!jt -t chesterish"
   ]
  },
  {
   "cell_type": "code",
   "execution_count": 3,
   "id": "6b5007d3",
   "metadata": {},
   "outputs": [
    {
     "name": "stdout",
     "output_type": "stream",
     "text": [
      "Reset css and font defaults in:\n",
      "C:\\Users\\ISI\\.jupyter\\custom &\n",
      "C:\\Users\\ISI\\AppData\\Roaming\\jupyter\\nbextensions\n"
     ]
    }
   ],
   "source": [
    "!jt -r"
   ]
  },
  {
   "cell_type": "code",
   "execution_count": null,
   "id": "b1b9b365",
   "metadata": {},
   "outputs": [],
   "source": []
  }
 ],
 "metadata": {
  "kernelspec": {
   "display_name": "Python 3 (ipykernel)",
   "language": "python",
   "name": "python3"
  },
  "language_info": {
   "codemirror_mode": {
    "name": "ipython",
    "version": 3
   },
   "file_extension": ".py",
   "mimetype": "text/x-python",
   "name": "python",
   "nbconvert_exporter": "python",
   "pygments_lexer": "ipython3",
   "version": "3.11.0"
  }
 },
 "nbformat": 4,
 "nbformat_minor": 5
}
